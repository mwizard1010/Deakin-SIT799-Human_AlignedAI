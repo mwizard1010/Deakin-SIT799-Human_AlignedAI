{
 "cells": [
  {
   "cell_type": "markdown",
   "metadata": {},
   "source": [
    "GitHub [link](https://github.com/MYUSER/MYPROJECT/)!"
   ]
  },
  {
   "cell_type": "markdown",
   "metadata": {},
   "source": [
    "Welcome to your assignment this week! \n",
    "\n",
    "To better understand bias and discrimination in AI, in this assignment, we will look at a Natural Language Processing use case. \n",
    "\n",
    "Natural Language Pocessing (NLP) is a branch of Artificial Intelligence (AI) that helps computers to understand, to interpret and to manipulate natural (i.e. human) language.\n",
    "Imagine NLP-powered machines as black boxes that are capable of understanding and evaluating the context of the input documents (i.e. collection of words), outputting meaningful results that depend on the task the machine is designed for.\n",
    "\n",
    "\n",
    "![](images/1_3zMvUnPzYZF9CSHdj6hT5A.png \"the title\")\n",
    "\n",
    "\n",
    "\n",
    "<caption><center> Documents are fed into magic NLP model capable to get, for instance, the sentiment of the original content</center></caption>\n",
    "\n",
    "\n",
    "\n",
    "Just like any other machine learning algorithm, biased data results in biased outcomes. And just like any other algorithm, results debiasing is painfully annoying, to the point that it might be simpler to unbias the society itself.\n",
    "\n",
    "# The big deal: word embeddings\n",
    "\n",
    "Words must be represented as **numeric vectors** in order to be fed into machine learning algorithms. One of the most powerful (and popular) ways to do it is through **Word Embeddings**. In word embedding models, each word in a given language is assigned to a high-dimensional vector, such that **the geometry of the vectors captures relations between the words**. \n",
    "\n",
    "\n",
    "Because word embeddings are very computionally expensive to train, most ML practitioners will load a pre-trained set of embeddings. \n",
    "\n",
    "**After this assignment you will be able to:**\n",
    "\n",
    "- Load pre-trained word vectors, and measure similarity using cosine similarity\n",
    "- Use word embeddings to solve word analogy problems such as Man is to Woman as King is to ______. \n",
    "- Modify word embeddings to reduce their gender bias \n",
    "\n",
    "Let's get started! Run the following cell to install all the packages you will need."
   ]
  },
  {
   "cell_type": "code",
   "execution_count": 11,
   "metadata": {
    "tags": []
   },
   "outputs": [],
   "source": [
    "#!pip install numpy\n",
    "#!pip install keras\n",
    "#!pip install tensorflow"
   ]
  },
  {
   "cell_type": "markdown",
   "metadata": {},
   "source": [
    "Run the following cell to load the packages you will need."
   ]
  },
  {
   "cell_type": "code",
   "execution_count": 3,
   "metadata": {
    "tags": []
   },
   "outputs": [],
   "source": [
    "import numpy as np\n",
    "from w2v_utils import *"
   ]
  },
  {
   "cell_type": "markdown",
   "metadata": {},
   "source": [
    "Next, lets load the word vectors. For this assignment, we will use 50-dimensional GloVe vectors to represent words. Run the following cell to load the `word_to_vec_map`. "
   ]
  },
  {
   "cell_type": "code",
   "execution_count": 4,
   "metadata": {},
   "outputs": [],
   "source": [
    "words, word_to_vec_map = read_glove_vecs('data/glove.6B.50d.txt')"
   ]
  },
  {
   "cell_type": "markdown",
   "metadata": {},
   "source": [
    "You've loaded:\n",
    "- `words`: set of words in the vocabulary.\n",
    "- `word_to_vec_map`: dictionary mapping words to their GloVe vector representation.\n",
    "\n"
   ]
  },
  {
   "cell_type": "code",
   "execution_count": 5,
   "metadata": {
    "tags": []
   },
   "outputs": [
    {
     "output_type": "stream",
     "name": "stdout",
     "text": "Example of words:  ['10:46', 'bilis', '53-05-76-50', 'ilya', 'mantegna', 'precluding', '3.7996', 'veruschka', '107.36', 'jeeter']\nVector for word 'person' =  [ 0.61734    0.40035    0.067786  -0.34263    2.0647     0.60844\n  0.32558    0.3869     0.36906    0.16553    0.0065053 -0.075674\n  0.57099    0.17314    1.0142    -0.49581   -0.38152    0.49255\n -0.16737   -0.33948   -0.44405    0.77543    0.20935    0.6007\n  0.86649   -1.8923    -0.37901   -0.28044    0.64214   -0.23549\n  2.9358    -0.086004  -0.14327   -0.50161    0.25291   -0.065446\n  0.60768    0.13984    0.018135  -0.34877    0.039985   0.07943\n  0.39318    1.0562    -0.23624   -0.4194    -0.35332   -0.15234\n  0.62158    0.79257  ]\n"
    }
   ],
   "source": [
    "print(\"Example of words: \",list(words)[:10])\n",
    "print(\"Vector for word 'person' = \", word_to_vec_map.get('person'))"
   ]
  },
  {
   "cell_type": "markdown",
   "metadata": {},
   "source": [
    "GloVe vectors provide much more useful information about the meaning of individual words. Lets now see how you can use GloVe vectors to decide how similar two words are. \n"
   ]
  },
  {
   "cell_type": "markdown",
   "metadata": {},
   "source": [
    "# Cosine similarity\n",
    "\n",
    "To measure how similar two words are, we need a way to measure the degree of similarity between two embedding vectors for the two words. Given two vectors $u$ and $v$, cosine similarity is defined as follows: \n",
    "\n",
    "\\begin{equation}\n",
    "\\text{CosineSimilarity(u, v)} = \\frac {u . v} {||u||_2 ||v||_2} = cos(\\theta) \\tag{1}\n",
    "\\end{equation}\n",
    "\n",
    "where $u.v$ is the dot product (or inner product) of two vectors, $||u||_2$ is the norm (or length) of the vector $u$, and $\\theta$ is the angle between $u$ and $v$. This similarity depends on the angle between $u$ and $v$. If $u$ and $v$ are very similar, their cosine similarity will be close to 1; if they are dissimilar, the cosine similarity will take a smaller value. \n",
    "\n",
    "\n",
    "![](images/cosine_sim.png)\n",
    "\n",
    "<caption><center> <b>Figure 1</b>: The cosine of the angle between two vectors is a measure of how similar they are</center></caption>\n",
    "\n"
   ]
  },
  {
   "cell_type": "markdown",
   "metadata": {},
   "source": [
    "***\n",
    "\n",
    "**Task 1**: Implement the function `cosine_similarity()` to evaluate similarity between word vectors.\n",
    "\n",
    "**Reminder**: The norm of $u$ is defined as $||u||_2 = \\sqrt{\\sum_{i=1}^{n} u_i^2}$"
   ]
  },
  {
   "cell_type": "code",
   "execution_count": 6,
   "metadata": {},
   "outputs": [],
   "source": [
    "## Task 1\n",
    "# cosine_similarity\n",
    "\n",
    "def cosine_similarity(u, v):\n",
    "    \"\"\"\n",
    "    Cosine similarity reflects the degree of similariy between u and v\n",
    "        \n",
    "    Arguments:\n",
    "        u -- a word vector of shape (n,)          \n",
    "        v -- a word vector of shape (n,)\n",
    "\n",
    "    Returns:\n",
    "        cosine_similarity -- the cosine similarity between u and v defined by the formula above.\n",
    "    \"\"\"\n",
    "    ## START YOU CODE HERE\n",
    "    dot_product = sum(u_i*v_i for u_i,v_i in zip(u, v))\n",
    "    magnitude = np.sqrt(np.sum([u_i*u_i for u_i in u])) * np.sqrt(np.sum([v_i*v_i for v_i in v]))\n",
    "    if not magnitude:\n",
    "        return 0\n",
    "    return dot_product/magnitude\n",
    "    ## END"
   ]
  },
  {
   "cell_type": "markdown",
   "metadata": {},
   "source": [
    "***\n",
    "\n",
    "**Task 2**: Implement `most_similar_word` which returns the most similar word to a word."
   ]
  },
  {
   "cell_type": "code",
   "execution_count": 7,
   "metadata": {},
   "outputs": [],
   "source": [
    "## Task 2\n",
    "# GRADED FUNCTION: most_similar_word\n",
    "\n",
    "def most_similar_word(word, word_to_vec_map):\n",
    "    \"\"\"\n",
    "    Most similar word return the most similar word to the word u.\n",
    "        \n",
    "    Arguments:\n",
    "        word -- a word, string        \n",
    "        word_to_vec_map -- dictionary that maps words to their corresponding vectors. \n",
    "    \n",
    "    Returns:\n",
    "    best_word --  the most similar word to u as measured by cosine similarity\n",
    "    \"\"\"\n",
    "    ## START YOU CODE HERE\n",
    "    most_similar = 'no word is found'\n",
    "    max_cosin_value = 0\n",
    "    for i in words:     \n",
    "        cosin_value = cosine_similarity(\n",
    "                            word_to_vec_map.get(word), \n",
    "                            word_to_vec_map.get(i))\n",
    "        #the most simlar word must differ with that word\n",
    "        #the more the cosin value similarity, the more simia\n",
    "        if i != word and cosin_value > max_cosin_value: \n",
    "            most_similar = i\n",
    "            max_cosin_value = cosin_value\n",
    "    return most_similar\n",
    "    ## END\n"
   ]
  },
  {
   "cell_type": "markdown",
   "metadata": {},
   "source": [
    "Answer the questions below:"
   ]
  },
  {
   "cell_type": "markdown",
   "metadata": {},
   "source": [
    "**TASK 3: Write a code the answer the following questions:**\n",
    "\n",
    "***"
   ]
  },
  {
   "cell_type": "markdown",
   "metadata": {},
   "source": [
    "What is the similarity between the words brother and friend?"
   ]
  },
  {
   "cell_type": "code",
   "execution_count": 8,
   "metadata": {
    "tags": []
   },
   "outputs": [
    {
     "output_type": "stream",
     "name": "stdout",
     "text": "Similarity between the words brother and friend: 0.8713178668124655\n"
    }
   ],
   "source": [
    "sim = cosine_similarity(\n",
    "    word_to_vec_map.get('brother'), \n",
    "    word_to_vec_map.get('friend'))\n",
    "print('Similarity between the words brother and friend:', sim)"
   ]
  },
  {
   "cell_type": "markdown",
   "metadata": {},
   "source": [
    "What is the similarity between the words computer and kid?"
   ]
  },
  {
   "cell_type": "code",
   "execution_count": 9,
   "metadata": {
    "tags": []
   },
   "outputs": [
    {
     "output_type": "stream",
     "name": "stdout",
     "text": "Similarity between the words computer and kid: 0.4380016621036385\n"
    }
   ],
   "source": [
    "sim = cosine_similarity(\n",
    "    word_to_vec_map.get('computer'), \n",
    "    word_to_vec_map.get('kid'))\n",
    "print('Similarity between the words computer and kid:', sim)"
   ]
  },
  {
   "cell_type": "markdown",
   "metadata": {},
   "source": [
    "What is the similarity between the words V1=(france - paris) and V2=(rome - italy)?"
   ]
  },
  {
   "cell_type": "code",
   "execution_count": 10,
   "metadata": {
    "tags": []
   },
   "outputs": [
    {
     "output_type": "stream",
     "name": "stdout",
     "text": "Similarity between the words V1=(france - paris) and V2=(rome - italy): -0.67514793081742\n"
    }
   ],
   "source": [
    "sim = cosine_similarity(\n",
    "    word_to_vec_map.get('france') - word_to_vec_map.get('paris'), \n",
    "    word_to_vec_map.get('rome') - word_to_vec_map.get('italy'))\n",
    "print('Similarity between the words V1=(france - paris) and V2=(rome - italy):', sim)"
   ]
  },
  {
   "cell_type": "markdown",
   "metadata": {},
   "source": [
    "What is the most similar word to computer?\n"
   ]
  },
  {
   "cell_type": "code",
   "execution_count": 11,
   "metadata": {
    "tags": []
   },
   "outputs": [
    {
     "output_type": "stream",
     "name": "stdout",
     "text": "The most similar word to computer: computers\n"
    }
   ],
   "source": [
    "similar = most_similar_word('computer', word_to_vec_map)\n",
    "print('The most similar word to computer:', similar)"
   ]
  },
  {
   "cell_type": "markdown",
   "metadata": {},
   "source": [
    "What is the most similar word to australia?"
   ]
  },
  {
   "cell_type": "code",
   "execution_count": 12,
   "metadata": {
    "tags": []
   },
   "outputs": [
    {
     "output_type": "stream",
     "name": "stdout",
     "text": "The most similar word to australia: zealand\n"
    }
   ],
   "source": [
    "similar = most_similar_word('australia', word_to_vec_map)\n",
    "print('The most similar word to australia:', similar)"
   ]
  },
  {
   "cell_type": "markdown",
   "metadata": {},
   "source": [
    "What is the most similar word to python?\n"
   ]
  },
  {
   "cell_type": "code",
   "execution_count": 13,
   "metadata": {
    "tags": []
   },
   "outputs": [
    {
     "output_type": "stream",
     "name": "stdout",
     "text": "The most similar word to python: reticulated\n"
    }
   ],
   "source": [
    "similar = most_similar_word('python', word_to_vec_map)\n",
    "print('The most similar word to python:', similar)\n"
   ]
  },
  {
   "cell_type": "markdown",
   "metadata": {},
   "source": [
    "***"
   ]
  },
  {
   "cell_type": "markdown",
   "metadata": {},
   "source": [
    "Playing around the cosine similarity of other inputs will give you a better sense of how word vectors behave. "
   ]
  },
  {
   "cell_type": "markdown",
   "metadata": {},
   "source": [
    "#  Word analogy task\n",
    "\n",
    "In the word analogy task, we complete the sentence <font color='brown'>\"*a* is to *b* as *c* is to **____**\"</font>. An example is <font color='brown'> '*man* is to *woman* as *king* is to *queen*' </font>. In detail, we are trying to find a word *d*, such that the associated word vectors $e_a, e_b, e_c, e_d$ are related in the following manner: $e_b - e_a \\approx e_d - e_c$. We will measure the similarity between $e_b - e_a$ and $e_d - e_c$ using cosine similarity. \n",
    "\n",
    "\n",
    "**Task 4**: Complete the code below to be able to perform word analogies!\n",
    "\n",
    "***"
   ]
  },
  {
   "cell_type": "code",
   "execution_count": 14,
   "metadata": {},
   "outputs": [],
   "source": [
    "## Task 4\n",
    "# GRADED FUNCTION: complete_analogy\n",
    "\n",
    "def complete_analogy(word_a, word_b, word_c, word_to_vec_map):\n",
    "    \"\"\"\n",
    "    Performs the word analogy task as explained above: a is to b as c is to ____. \n",
    "    \n",
    "    Arguments:\n",
    "    word_a -- a word, string\n",
    "    word_b -- a word, string\n",
    "    word_c -- a word, string\n",
    "    word_to_vec_map -- dictionary that maps words to their corresponding vectors. \n",
    "    \n",
    "    Returns:\n",
    "    best_word --  the word such that v_b - v_a is close to v_best_word - v_c, as measured by cosine similarity\n",
    "    \"\"\"\n",
    "    ## START YOU CODE HERE\n",
    "    # v_b - v_a = v_best_word - v_c  <=> v_best_word = v_b - v_a + v_c\n",
    "    \n",
    "    target_cosin = word_to_vec_map.get(word_b) - word_to_vec_map.get(word_a) + word_to_vec_map.get(word_c)\n",
    "    \n",
    "    best_word = 'no word is found'\n",
    "    max_cosin_value = 0\n",
    "    for i in words:     \n",
    "        cosin_value = cosine_similarity(word_to_vec_map.get(i), target_cosin)\n",
    "        if i != word_c and cosin_value > max_cosin_value: \n",
    "            best_word = i\n",
    "            max_cosin_value = cosin_value\n",
    "            #print(i)\n",
    "            #print(cosin_value)\n",
    "    return best_word\n",
    "    ##ENFD\n"
   ]
  },
  {
   "cell_type": "markdown",
   "metadata": {},
   "source": [
    "Run the cell below to test your code, this may take 1-2 minutes."
   ]
  },
  {
   "cell_type": "code",
   "execution_count": 15,
   "metadata": {
    "tags": []
   },
   "outputs": [
    {
     "output_type": "stream",
     "name": "stdout",
     "text": "italy -> italian :: spain -> spanish\nindia -> delhi :: japan -> tokyo\nman -> woman :: boy -> girl\nsmall -> smaller :: large -> smaller\n"
    }
   ],
   "source": [
    "triads_to_try = [('italy', 'italian', 'spain'), ('india', 'delhi', 'japan'), ('man', 'woman', 'boy'), ('small', 'smaller', 'large')]\n",
    "for triad in triads_to_try:\n",
    "    print ('{} -> {} :: {} -> {}'.format( *triad, complete_analogy(*triad,word_to_vec_map)))"
   ]
  },
  {
   "cell_type": "markdown",
   "metadata": {},
   "source": [
    "Once you get the correct expected output, please feel free to modify the input cells above to test your own analogies. Try to find some other analogy pairs that do work, but also find some where the algorithm doesn't give the right answer: For example, you can try small->smaller as big->?.  "
   ]
  },
  {
   "cell_type": "code",
   "execution_count": 16,
   "metadata": {
    "tags": []
   },
   "outputs": [
    {
     "output_type": "stream",
     "name": "stdout",
     "text": "small -> smaller :: big -> bigger\n"
    }
   ],
   "source": [
    "#the result here is true but the result above is so strange)\n",
    "sample = ('small', 'smaller', 'big')\n",
    "print ('{} -> {} :: {} -> {}'.format( *sample, complete_analogy(*sample,word_to_vec_map)))"
   ]
  },
  {
   "cell_type": "code",
   "execution_count": 98,
   "metadata": {
    "tags": []
   },
   "outputs": [
    {
     "output_type": "stream",
     "name": "stdout",
     "text": "holdout\n0.07803550804751298\nfuses\n0.10792423343240036\nceiling\n0.5164381315058653\nportions\n0.560143889502809\nexclusively\n0.648675611022838\ncreate\n0.7291491829118901\nits\n0.7419100919741273\nthese\n0.7479145911323591\nmore\n0.776163414409844\ntypically\n0.8067169929110889\nsmall\n0.8319246860261584\nlarger\n0.9362854360378272\nsmaller\n0.9670160251116139\nsmall -> smaller :: large -> smaller\n"
    }
   ],
   "source": [
    "# try to track\n",
    "sample = ('small', 'smaller', 'large')\n",
    "print ('{} -> {} :: {} -> {}'.format( *sample, complete_analogy(*sample,word_to_vec_map)))\n"
   ]
  },
  {
   "cell_type": "code",
   "execution_count": 17,
   "metadata": {
    "tags": []
   },
   "outputs": [
    {
     "output_type": "stream",
     "name": "stdout",
     "text": "0.6831324455301028 0.8488444550145747\n"
    }
   ],
   "source": [
    "#check gain\n",
    "cosA = cosine_similarity(\n",
    "    word_to_vec_map.get('smaller') - word_to_vec_map.get('small'), \n",
    "    word_to_vec_map.get('larger') - word_to_vec_map.get('large'))\n",
    "\n",
    "cosB = cosine_similarity(\n",
    "    word_to_vec_map.get('smaller') - word_to_vec_map.get('small'), \n",
    "    word_to_vec_map.get('smaller') - word_to_vec_map.get('large'))\n",
    "\n",
    "print(cosA, cosB)    "
   ]
  },
  {
   "cell_type": "markdown",
   "metadata": {},
   "source": [
    "# Debiasing word vectors"
   ]
  },
  {
   "cell_type": "markdown",
   "metadata": {},
   "source": [
    "In the following exercise, you will examine gender biases that can be reflected in a word embedding, and explore algorithms for reducing the bias. In addition to learning about the topic of debiasing, this exercise will also help hone your intuition about what word vectors are doing. This section involves a bit of linear algebra, though you can probably complete it even without being expert in linear algebra, and we encourage you to give it a shot. \n",
    "\n",
    "Lets first see how the GloVe word embeddings relate to gender. You will first compute a vector $g = e_{woman}-e_{man}$, where $e_{woman}$ represents the word vector corresponding to the word *woman*, and $e_{man}$ corresponds to the word vector corresponding to the word *man*. The resulting vector $g$ roughly encodes the concept of \"gender\". (You might get a more accurate representation if you compute $g_1 = e_{mother}-e_{father}$, $g_2 = e_{girl}-e_{boy}$, etc. and average over them. But just using $e_{woman}-e_{man}$ will give good enough results for now.) \n"
   ]
  },
  {
   "cell_type": "markdown",
   "metadata": {},
   "source": [
    "**Task 5:** Compute the bias vector using woman - man\n",
    "\n",
    "***"
   ]
  },
  {
   "cell_type": "code",
   "execution_count": 18,
   "metadata": {
    "tags": []
   },
   "outputs": [
    {
     "output_type": "stream",
     "name": "stdout",
     "text": "[-0.087144    0.2182     -0.40986    -0.03922    -0.1032      0.94165\n -0.06042     0.32988     0.46144    -0.35962     0.31102    -0.86824\n  0.96006     0.01073     0.24337     0.08193    -1.02722    -0.21122\n  0.695044   -0.00222     0.29106     0.5053     -0.099454    0.40445\n  0.30181     0.1355     -0.0606     -0.07131    -0.19245    -0.06115\n -0.3204      0.07165    -0.13337    -0.25068714 -0.14293    -0.224957\n -0.149       0.048882    0.12191    -0.27362    -0.165476   -0.20426\n  0.54376    -0.271425   -0.10245    -0.32108     0.2516     -0.33455\n -0.04371     0.01258   ]\n"
    }
   ],
   "source": [
    "## START YOU CODE HERE\n",
    "g = word_to_vec_map.get('woman') - word_to_vec_map.get('man')\n",
    "## END\n",
    "\n",
    "print(g)"
   ]
  },
  {
   "cell_type": "markdown",
   "metadata": {},
   "source": [
    "***"
   ]
  },
  {
   "cell_type": "markdown",
   "metadata": {},
   "source": [
    "Now, you will consider the cosine similarity of different words with $g$. Consider what a positive value of similarity means vs a negative cosine similarity. "
   ]
  },
  {
   "cell_type": "markdown",
   "metadata": {
    "scrolled": false
   },
   "source": [
    "**Task 6: Compute and print the similarity between g and the words in name_list**\n",
    "\n",
    "***\n",
    "    "
   ]
  },
  {
   "cell_type": "code",
   "execution_count": 19,
   "metadata": {
    "tags": []
   },
   "outputs": [
    {
     "output_type": "stream",
     "name": "stdout",
     "text": "List of names and their similarities with constructed vector:\nName : john, Similarity : -0.23163356145973724\nName : marie, Similarity : 0.31559793539607295\nName : sophie, Similarity : 0.3186878985941879\nName : ronaldo, Similarity : -0.3124479685032943\nName : priya, Similarity : 0.17632041839009405\nName : rahul, Similarity : -0.1691547103923171\nName : danielle, Similarity : 0.24393299216283895\nName : reza, Similarity : -0.07930429672199549\nName : katy, Similarity : 0.2831068659572614\nName : yasmin, Similarity : 0.2331385776792876\n"
    }
   ],
   "source": [
    "print ('List of names and their similarities with constructed vector:')\n",
    "name_list = ['john', 'marie', 'sophie', 'ronaldo', 'priya', 'rahul', 'danielle', 'reza', 'katy', 'yasmin']\n",
    "\n",
    "## START YOU CODE HERE\n",
    "for name in name_list:\n",
    "    print('Name : {0}, Similarity : {1}'.format(\n",
    "                                            name, \n",
    "                                            cosine_similarity(g, word_to_vec_map.get(name))\n",
    "                                            ))\n",
    "## END"
   ]
  },
  {
   "cell_type": "markdown",
   "metadata": {},
   "source": [
    "***"
   ]
  },
  {
   "cell_type": "markdown",
   "metadata": {},
   "source": [
    "**TASK 7: What do you abserve?**\n",
    "\n",
    "***\n",
    "\n",
    "PLEASE ANSWER HERE!\n",
    "\n",
    "Cosine similarity > 0: woman \n",
    "\n",
    "\n",
    "Cosine similarity < 0: man \n",
    "***"
   ]
  },
  {
   "cell_type": "markdown",
   "metadata": {},
   "source": [
    "**Task 8: Compute and print the similarity between g and the words in word_list:**\n",
    "\n",
    "***"
   ]
  },
  {
   "cell_type": "code",
   "execution_count": 20,
   "metadata": {
    "tags": []
   },
   "outputs": [
    {
     "output_type": "stream",
     "name": "stdout",
     "text": "Other words and their similarities:\nName : lipstick, Similarity : 0.27691916256382665\nName : guns, Similarity : -0.18884855678988982\nName : science, Similarity : -0.06082906540929698\nName : arts, Similarity : 0.00818931238588036\nName : literature, Similarity : 0.0647250443345993\nName : warrior, Similarity : -0.20920164641125283\nName : doctor, Similarity : 0.1189528941093504\nName : tree, Similarity : -0.07089399175478091\nName : receptionist, Similarity : 0.3307794175059374\nName : technology, Similarity : -0.13193732447554296\nName : fashion, Similarity : 0.03563894625772697\nName : teacher, Similarity : 0.1792092343182566\nName : engineer, Similarity : -0.0803928049452407\nName : pilot, Similarity : 0.0010764498991917165\nName : computer, Similarity : -0.10330358873850501\nName : singer, Similarity : 0.18500518136496288\n"
    }
   ],
   "source": [
    "print('Other words and their similarities:')\n",
    "word_list = ['lipstick', 'guns', 'science', 'arts', 'literature', 'warrior','doctor', 'tree', 'receptionist', \n",
    "             'technology',  'fashion', 'teacher', 'engineer', 'pilot', 'computer', 'singer']\n",
    "\n",
    "## START YOU CODE HERE\n",
    "for word in word_list:\n",
    "    print('Name : {0}, Similarity : {1}'.format(\n",
    "                                            word, \n",
    "                                            cosine_similarity(g, word_to_vec_map.get(word))\n",
    "                                            ))\n",
    "\n",
    "## END \n"
   ]
  },
  {
   "cell_type": "markdown",
   "metadata": {},
   "source": [
    "**TASK 9: What do you abserve?**\n",
    "\n",
    "***\n",
    "\n",
    "PLEASE ANSWER HERE!\n",
    "\n",
    "Cosine similarity > 0: belong to woman \n",
    "\n",
    "\n",
    "Cosine similarity < 0: belong to man \n",
    "\n",
    "However, suprising that doctor and pilot belong to woman\n",
    "\n",
    "\n",
    "***\n"
   ]
  },
  {
   "cell_type": "markdown",
   "metadata": {},
   "source": [
    "\n",
    "We'll see below how to reduce the bias of these vectors, using an algorithm due to [Boliukbasi et al., 2016](https://arxiv.org/abs/1607.06520). Note that some word pairs such as \"actor\"/\"actress\" or \"grandmother\"/\"grandfather\" should remain gender specific, while other words such as \"receptionist\" or \"technology\" should be neutralized, i.e. not be gender-related. You will have to treat these two type of words differently when debiasing.\n",
    "\n",
    "# Neutralize bias for non-gender specific words \n",
    "\n",
    "The figure below should help you visualize what neutralizing does. If you're using a 50-dimensional word embedding, the 50 dimensional space can be split into two parts: The bias-direction $g$, and the remaining 49 dimensions, which we'll call $g_{\\perp}$. In linear algebra, we say that the 49 dimensional $g_{\\perp}$ is perpendicular (or \"orthogonal\") to $g$, meaning it is at 90 degrees to $g$. The neutralization step takes a vector such as $e_{receptionist}$ and zeros out the component in the direction of $g$, giving us $e_{receptionist}^{debiased}$. \n",
    "\n",
    "Even though $g_{\\perp}$ is 49 dimensional, given the limitations of what we can draw on a screen, we illustrate it using a 1 dimensional axis below. \n",
    "\n",
    "\n",
    "![](images/neutral.png)\n",
    "\n",
    "\n",
    "<caption><center> <b>Figure 2</b>: The word vector for \"receptionist\" represented before and after applying the neutralize operation. </center></caption>\n",
    "\n",
    "**TASK 10**: Implement `neutralize()` to remove the bias of words such as \"receptionist\" or \"scientist\". Given an input embedding $e$, you can use the following formulas to compute $e^{debiased}$: \n",
    "\n",
    "\n",
    "\\begin{equation}\n",
    "e^{bias\\_component} = \\frac{e \\cdot g}{||g||_2^2} * g\\tag{2}\n",
    "\\end{equation}\n",
    "\n",
    "\\begin{equation}\n",
    "e^{debiased} = e - e^{bias\\_component}\\tag{3}\n",
    "\\end{equation}\n",
    "\n",
    "If you are an expert in linear algebra, you may recognize $e^{bias\\_component}$ as the projection of $e$ onto the direction $g$. If you're not an expert in linear algebra, don't worry about this.\n",
    "\n",
    "<!-- \n",
    "**Reminder**: a vector $u$ can be split into two parts: its projection over a vector-axis $v_B$ and its projection over the axis orthogonal to $v$:\n",
    "$$u = u_B + u_{\\perp}$$\n",
    "where : $u_B = $ and $ u_{\\perp} = u - u_B $\n",
    "!--> \n",
    "***"
   ]
  },
  {
   "cell_type": "code",
   "execution_count": 21,
   "metadata": {},
   "outputs": [],
   "source": [
    "# TASK 10\n",
    "# GRADED neutralize\n",
    "\n",
    "def neutralize(word, g, word_to_vec_map):\n",
    "    \"\"\"\n",
    "    Removes the bias of \"word\" by projecting it on the space orthogonal to the bias axis. \n",
    "    This function ensures that gender neutral words are zero in the gender subspace.\n",
    "    \n",
    "    Arguments:\n",
    "        word -- string indicating the word to debias\n",
    "        g -- numpy-array of shape (50,), corresponding to the bias axis (such as gender)\n",
    "        word_to_vec_map -- dictionary mapping words to their corresponding vectors.\n",
    "    \n",
    "    Returns:\n",
    "        e_debiased -- neutralized word vector representation of the input \"word\"\n",
    "    \"\"\"\n",
    "    ## START YOU CODE HERE\n",
    "    vec_word = word_to_vec_map.get(word)\n",
    "    word_bias_component = sum(i*j for i,j in zip(vec_word, g))\n",
    "    magnitude = np.sum([i*i for i in g])\n",
    "    if not magnitude:\n",
    "        return 0\n",
    "    return vec_word - (word_bias_component * g) / magnitude\n",
    "    ## END \n",
    "    "
   ]
  },
  {
   "cell_type": "code",
   "execution_count": 22,
   "metadata": {
    "tags": []
   },
   "outputs": [
    {
     "output_type": "stream",
     "name": "stdout",
     "text": "cosine similarity between receptionist and g, before neutralizing:  0.3307794175059374\ncosine similarity between receptionist and g, after neutralizing:  -9.838488834622669e-17\n"
    }
   ],
   "source": [
    "e = \"receptionist\"\n",
    "print(\"cosine similarity between \" + e + \" and g, before neutralizing: \", cosine_similarity(word_to_vec_map[\"receptionist\"], g))\n",
    "\n",
    "e_debiased = neutralize(\"receptionist\", g, word_to_vec_map)\n",
    "print(\"cosine similarity between \" + e + \" and g, after neutralizing: \", cosine_similarity(e_debiased, g))"
   ]
  },
  {
   "cell_type": "markdown",
   "metadata": {},
   "source": [
    "# Equalization algorithm for gender-specific words\n",
    "\n",
    "Next, lets see how debiasing can also be applied to word pairs such as \"actress\" and \"actor.\" Equalization is applied to pairs of words that you might want to have differ only through the gender property. As a concrete example, suppose that \"actress\" is closer to \"babysit\" than \"actor.\" By applying neutralizing to \"babysit\" we can reduce the gender-stereotype associated with babysitting. But this still does not guarantee that \"actor\" and \"actress\" are equidistant from \"babysit.\" The equalization algorithm takes care of this. \n",
    "\n",
    "The key idea behind equalization is to make sure that a particular pair of words are equi-distant from the 49-dimensional $g_\\perp$. The equalization step also ensures that the two equalized steps are now the same distance from $e_{receptionist}^{debiased}$, or from any other word that has been neutralized. In pictures, this is how equalization works: \n",
    "\n",
    "\n",
    "![](images/equalize10.png)\n",
    "\n",
    "\n",
    "\n",
    "The derivation of the linear algebra to do this is a bit more complex. (See Bolukbasi et al., 2016 for details.) But the key equations are: \n",
    "\n",
    "\\begin{equation}\n",
    "\\mu = \\frac{e_{w1} + e_{w2}}{2}\\tag{4}\n",
    "\\end{equation}\n",
    "\n",
    "\\begin{equation}\n",
    "\\mu_{B} = \\frac {\\mu \\cdot bias\\_axis}{||bias\\_axis||_2^2} *bias\\_axis\n",
    "\\tag{5}\n",
    "\\end{equation}\n",
    "\n",
    "\\begin{equation}\n",
    "\\mu_{\\perp} = \\mu - \\mu_{B} \\tag{6}\n",
    "\\end{equation}\n",
    "\n",
    "\\begin{equation}\n",
    "e_{w1B} = \\frac {e_{w1} \\cdot bias\\_axis}{||bias\\_axis||_2^2} *bias\\_axis\n",
    "\\tag{7}\n",
    "\\end{equation}\n",
    "\n",
    "\\begin{equation}\n",
    "e_{w2B} = \\frac {e_{w2} \\cdot bias\\_axis}{||bias\\_axis||_2^2} *bias\\_axis\n",
    "\\tag{8}\n",
    "\\end{equation}\n",
    "\n",
    "\\begin{equation}\n",
    "e_{w1B}^{corrected} = \\sqrt{ |{1 - ||\\mu_{\\perp} ||^2_2} |} * \\frac{e_{\\text{w1B}} - \\mu_B} {||(e_{w1} - \\mu_{\\perp}) - \\mu_B||} \\tag{9}\n",
    "\\end{equation}\n",
    "\n",
    "\\begin{equation}\n",
    "e_{w2B}^{corrected} = \\sqrt{ |{1 - ||\\mu_{\\perp} ||^2_2} |} * \\frac{e_{\\text{w2B}} - \\mu_B} {||(e_{w2} - \\mu_{\\perp}) - \\mu_B||} \\tag{10}\n",
    "\\end{equation}\n",
    "\n",
    "\\begin{equation}\n",
    "e_1 = e_{w1B}^{corrected} + \\mu_{\\perp} \\tag{11}\n",
    "\\end{equation}\n",
    "\n",
    "\\begin{equation}\n",
    "e_2 = e_{w2B}^{corrected} + \\mu_{\\perp} \\tag{12}\n",
    "\\end{equation}\n",
    "\n",
    "**TASK 11**: Implement the function below. Use the equations above to get the final equalized version of the pair of words. Good luck!\n",
    "\n",
    "***"
   ]
  },
  {
   "cell_type": "code",
   "execution_count": 27,
   "metadata": {},
   "outputs": [],
   "source": [
    "# TASK 11\n",
    "# GRADED equalize\n",
    "\n",
    "def equalize(pair, bias_axis, word_to_vec_map):\n",
    "    \"\"\"\n",
    "    Debias gender specific words by following the equalize method described in the figure above.\n",
    "    \n",
    "    Arguments:\n",
    "    pair -- pair of strings of gender specific words to debias, e.g. (\"actress\", \"actor\") \n",
    "    bias_axis -- numpy-array of shape (50,), vector corresponding to the bias axis, e.g. gender\n",
    "    word_to_vec_map -- dictionary mapping words to their corresponding vectors\n",
    "    \n",
    "    Returns\n",
    "    e_1 -- word vector corresponding to the first word\n",
    "    e_2 -- word vector corresponding to the second word\n",
    "    \"\"\"\n",
    "    ## START YOU CODE HERE\n",
    "    e1_name, e2_name = pair\n",
    "    e1 = word_to_vec_map.get(e1_name)\n",
    "    e2 = word_to_vec_map.get(e2_name)\n",
    "\n",
    "    ## 4 ##\n",
    "    mu = (e1+ e2)/ 2\n",
    "\n",
    "    ## 5 ##\n",
    "    mu_bias_dot = sum(i*j for i,j in zip(mu, bias_axis))\n",
    "    magnitude_bias = np.sum([i*i for i in bias_axis])\n",
    "    if not magnitude_bias:\n",
    "        return 0\n",
    "    mu_b = (mu_bias_dot * bias_axis) / magnitude_bias\n",
    "\n",
    "    ## 6 ##\n",
    "    mu_og = mu - mu_b\n",
    "\n",
    "    ## 7 - 8 ##\n",
    "    e1_bias_dot = sum(i*j for i,j in zip(e1, bias_axis))\n",
    "    e2_bias_dot = sum(i*j for i,j in zip(e2, bias_axis))\n",
    "    e1_b = (e1_bias_dot * bias_axis) / magnitude_bias\n",
    "    e2_b = (e2_bias_dot * bias_axis) / magnitude_bias\n",
    "\n",
    "    ## 9 - 10 ##\n",
    "    factor = np.sqrt(np.abs(1 - sum([i*i for i in mu_og])))\n",
    "\n",
    "    magnitude_ew1 = np.sqrt(np.sum([i*i for i in ((e1 - mu_og) - mu_b)]))\n",
    "    magnitude_ew2 = np.sqrt(np.sum([i*i for i in ((e2 - mu_og) - mu_b)]))\n",
    "    e1_b_corrected = (factor * (e1_b - mu_b)) / magnitude_ew1\n",
    "    e2_b_corrected = (factor * (e2_b - mu_b)) / magnitude_ew2\n",
    "\n",
    "    ## 11 ##\n",
    "    e_1 = e1_b_corrected + mu_og\n",
    "    e_2 = e2_b_corrected + mu_og\n",
    "\n",
    "    return (e_1, e_2)\n",
    "    ##END"
   ]
  },
  {
   "cell_type": "code",
   "execution_count": 28,
   "metadata": {
    "scrolled": true,
    "tags": []
   },
   "outputs": [
    {
     "output_type": "stream",
     "name": "stdout",
     "text": "cosine similarities before equalizing:\ncosine_similarity(word_to_vec_map[\"man\"], gender) =  -0.11711095765336829\ncosine_similarity(word_to_vec_map[\"woman\"], gender) =  0.3566661884627036\n\ncosine similarities after equalizing:\ncosine_similarity(e1, gender) =  -0.7004364289309386\ncosine_similarity(e2, gender) =  0.7004364289309389\n"
    }
   ],
   "source": [
    "print(\"cosine similarities before equalizing:\")\n",
    "print(\"cosine_similarity(word_to_vec_map[\\\"man\\\"], gender) = \", cosine_similarity(word_to_vec_map[\"man\"], g))\n",
    "print(\"cosine_similarity(word_to_vec_map[\\\"woman\\\"], gender) = \", cosine_similarity(word_to_vec_map[\"woman\"], g))\n",
    "print()\n",
    "e1, e2 = equalize((\"man\", \"woman\"), g, word_to_vec_map)\n",
    "print(\"cosine similarities after equalizing:\")\n",
    "print(\"cosine_similarity(e1, gender) = \", cosine_similarity(e1, g))\n",
    "print(\"cosine_similarity(e2, gender) = \", cosine_similarity(e2, g))"
   ]
  },
  {
   "cell_type": "markdown",
   "metadata": {},
   "source": [
    "**TASK 12: What do you abserve?**\n",
    "\n",
    "***\n",
    "\n",
    "PLEASE ANSWER HERE!\n",
    "\n",
    "The value of cosine_similarity(e1, gender) & cosine_similarity(e2, gender) equal in quantitive, but one is negative, one is positive.\n",
    "\n",
    "Because we use g = women - men. So women > 0, men < 0. \n",
    "\n",
    "Incase we use g = men - women, we will have the opposite result\n",
    "\n",
    "In the above example, because of the rough calculation, the two vectors are not really equal, but not significantly different.\n",
    "\n",
    "\n",
    "***"
   ]
  },
  {
   "cell_type": "markdown",
   "metadata": {
    "collapsed": true
   },
   "source": [
    "Please feel free to play with the input words in the cell above, to apply equalization to other pairs of words. \n",
    "\n",
    "These debiasing algorithms are very helpful for reducing bias, but are not perfect and do not eliminate all traces of bias. For example, one weakness of this implementation was that the bias direction $g$ was defined using only the pair of words _woman_ and _man_. As discussed earlier, if $g$ were defined by computing $g_1 = e_{woman} - e_{man}$; $g_2 = e_{mother} - e_{father}$; $g_3 = e_{girl} - e_{boy}$; and so on and averaging over them, you would obtain a better estimate of the \"gender\" dimension in the 50 dimensional word embedding space. Feel free to play with such variants as well.  \n",
    "                     "
   ]
  },
  {
   "cell_type": "markdown",
   "metadata": {},
   "source": [
    "# Congratulations!\n",
    "\n",
    "You've come to the end of this assignment, and have seen a lot of the ways that word vectors can be used as well as  modified. Here are the main points you should remember:\n",
    "\n",
    "- Cosine similarity a good way to compare similarity between pairs of word vectors. (Though L2 distance works too.) \n",
    "- For NLP applications, using a pre-trained set of word vectors from the internet is often a good way to get started. \n",
    "- Bias in data is an important problem.\n",
    "- Neutralize and equalize allow to reduce bias in the data.\n",
    "\n",
    "Congratulations on finishing this notebook! \n",
    "\n"
   ]
  },
  {
   "cell_type": "markdown",
   "metadata": {},
   "source": [
    "# References\n",
    "- The debiasing algorithm is from Bolukbasi et al., 2016, [Man is to Computer Programmer as Woman is to\n",
    "Homemaker? Debiasing Word Embeddings](https://papers.nips.cc/paper/6228-man-is-to-computer-programmer-as-woman-is-to-homemaker-debiasing-word-embeddings.pdf)\n",
    "- The GloVe word embeddings were due to Jeffrey Pennington, Richard Socher, and Christopher D. Manning. (https://nlp.stanford.edu/projects/glove/)\n"
   ]
  }
 ],
 "metadata": {
  "coursera": {
   "course_slug": "nlp-sequence-models",
   "graded_item_id": "8hb5s",
   "launcher_item_id": "5NrJ6"
  },
  "kernelspec": {
   "display_name": "Python 3.7.6 64-bit ('base': conda)",
   "language": "python",
   "name": "python_defaultSpec_1596806453890"
  },
  "language_info": {
   "codemirror_mode": {
    "name": "ipython",
    "version": 3
   },
   "file_extension": ".py",
   "mimetype": "text/x-python",
   "name": "python",
   "nbconvert_exporter": "python",
   "pygments_lexer": "ipython3",
   "version": "3.8.3"
  }
 },
 "nbformat": 4,
 "nbformat_minor": 2
}